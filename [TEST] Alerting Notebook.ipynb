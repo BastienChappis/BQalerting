{
 "cells": [
  {
   "cell_type": "markdown",
   "metadata": {},
   "source": [
    "# ALERTING NOTEBOOK\n",
    "\n",
    "Author:\n",
    "- Bastien Chappis\n",
    "\n",
    "Goal: \n",
    "- To alert ;) \n",
    "  \n",
    "---\n",
    "## Checks available:\n",
    "- columns\n",
    "  - check existing column\n",
    "  - non null column\n",
    "  - only unique value in column\n",
    "  - all values to match regex\n",
    "  - column values not to match regex\n",
    "\n",
    "  - TODO column value to match the right date format\n",
    "  - TODO column value to contain valid email\n",
    "  - TODO column sum to be between\n",
    "  - TODO column stdev to be between\n",
    "- row\n",
    "  - row count equals to \n",
    "  - row count between two values\n",
    "\n",
    "- datascience checks\n",
    "  - TODO column value to be correlated to other column\n",
    "  - TODO column value not to be correlated to other column\n",
    "  - TODO column value to be normally distributed\n",
    "  - TODO column value not to contain outliers\n",
    "  "
   ]
  },
  {
   "cell_type": "code",
   "execution_count": 1,
   "metadata": {},
   "outputs": [],
   "source": [
    "from google.cloud import bigquery\n",
    "from tools import Directory, Table, Query, Dataframe\n",
    "from check import TableCheck\n"
   ]
  },
  {
   "cell_type": "markdown",
   "metadata": {},
   "source": [
    "## Source Data"
   ]
  },
  {
   "cell_type": "code",
   "execution_count": 2,
   "metadata": {},
   "outputs": [],
   "source": [
    "client = bigquery.Client('useful-foundry-132723')\n",
    "\n",
    "source_project='useful-foundry-132723'\n",
    "source_dataset='55_ROBYN'\n",
    "source_table_name='dt_simulated_weekly'\n",
    "\n",
    "directory = Directory(client, source_project, source_dataset)\n",
    "source_table = Table(client, directory, source_table_name)\n",
    "test_table = Table(client, directory, 'test_new')"
   ]
  },
  {
   "cell_type": "markdown",
   "metadata": {},
   "source": [
    "## Check endpoint"
   ]
  },
  {
   "cell_type": "code",
   "execution_count": 3,
   "metadata": {},
   "outputs": [],
   "source": [
    "endpoint_project='useful-foundry-132723'\n",
    "endpoint_dataset='55_ROBYN'\n",
    "endpointe_table_name='check_test'\n",
    "\n",
    "endpoint_directory = Directory(client, endpoint_project, endpoint_dataset)\n",
    "endpoint_table=Table(client, endpoint_directory, endpointe_table_name)"
   ]
  },
  {
   "cell_type": "markdown",
   "metadata": {},
   "source": [
    "## Check and publish"
   ]
  },
  {
   "cell_type": "code",
   "execution_count": 4,
   "metadata": {},
   "outputs": [
    {
     "name": "stdout",
     "output_type": "stream",
     "text": [
      "> Retrieve table metadata\n",
      "> Job ec6b26bc-ff39-41da-92ad-4b20087a4dbe is currently RUNNING\u001b[32m\n",
      "> Query RUNNING (ಠ‿↼)\n",
      "\u001b[0m\n",
      "\u001b[35m> Email: bastien.chappis@fifty-five.com\n",
      "> Job time: 2022-01-01 18:18:24.159000+00:00\n",
      "\u001b[31m> Error printing metadata\n",
      "\u001b[0m\n",
      "> Checking expect_revenue_value_to_not_be_null\n",
      "> Checking expect_revenue_value_mean_to_be_between\n",
      "> Checking expect_DATE_column_values_to_be_unique\n",
      "> Checking expect_ooh_S_column_values_to_be_unique\n",
      "> Checking expect_column_events_values_to_match_regex_negatif\n",
      "> Checking expect_column_events_values_to_match_regex_na\n",
      "> Checking expect_column_ooh_S_values_to_not_match_regex_hello\n",
      "> Job 16f334f7-d855-4c34-b694-e1e2704af3c5 is currently RUNNING\u001b[32m\n",
      "> Query RUNNING (ಠ‿↼)\n",
      "\u001b[0m\n",
      "\u001b[35m> Email: bastien.chappis@fifty-five.com\n",
      "> Job time: 2022-01-01 18:18:25.290000+00:00\n",
      "\u001b[31m> Error printing metadata\n",
      "\u001b[0m\n"
     ]
    }
   ],
   "source": [
    "QC = TableCheck(client, source_table, debug=False)\n",
    "QC.expect_column_value_to_not_be_null(column='revenue')\n",
    "QC.expect_column_value_mean_to_be_between('revenue', 100, 200 )\n",
    "QC.expect_column_values_to_be_unique('DATE')\n",
    "QC.expect_column_values_to_be_unique('ooh_S')\n",
    "QC.expect_column_values_to_match_regex('events', 'negatif')\n",
    "QC.expect_column_values_to_match_regex('events', 'na')\n",
    "QC.expect_column_values_to_not_match_regex('ooh_S','hello')\n",
    "df = QC.run()"
   ]
  },
  {
   "cell_type": "code",
   "execution_count": 5,
   "metadata": {},
   "outputs": [
    {
     "name": "stdout",
     "output_type": "stream",
     "text": [
      "1\n",
      "\u001b[31m\n",
      "> Sequencing is deactivated, job status wont be verified\u001b[0m\n",
      "> Exporting dataframe to table useful-foundry-132723.55_ROBYN.check_test_1\n"
     ]
    },
    {
     "name": "stderr",
     "output_type": "stream",
     "text": [
      "/home/jovyan/venv_dna_3.8/lib/python3.8/site-packages/google/cloud/bigquery/_pandas_helpers.py:275: UserWarning: Unable to determine type of column 'check'.\n",
      "  warnings.warn(u\"Unable to determine type of column '{}'.\".format(column))\n"
     ]
    },
    {
     "name": "stdout",
     "output_type": "stream",
     "text": [
      "2\n",
      "\u001b[31m\n",
      "> Sequencing is deactivated, job status wont be verified\u001b[0m\n",
      "> Exporting dataframe to table useful-foundry-132723.55_ROBYN.check_test_2\n",
      "3\n",
      "\u001b[31m\n",
      "> Sequencing is deactivated, job status wont be verified\u001b[0m\n",
      "> Exporting dataframe to table useful-foundry-132723.55_ROBYN.check_test_3\n",
      "4\n",
      "\u001b[31m\n",
      "> Sequencing is deactivated, job status wont be verified\u001b[0m\n",
      "> Exporting dataframe to table useful-foundry-132723.55_ROBYN.check_test_4\n"
     ]
    }
   ],
   "source": [
    "Dataframe(client, df).to_table(endpoint_table)"
   ]
  }
 ],
 "metadata": {
  "kernelspec": {
   "display_name": "venv_dna_3.8",
   "language": "python",
   "name": "venv_dna_3.8"
  },
  "language_info": {
   "codemirror_mode": {
    "name": "ipython",
    "version": 3
   },
   "file_extension": ".py",
   "mimetype": "text/x-python",
   "name": "python",
   "nbconvert_exporter": "python",
   "pygments_lexer": "ipython3",
   "version": "3.8.6"
  }
 },
 "nbformat": 4,
 "nbformat_minor": 4
}
